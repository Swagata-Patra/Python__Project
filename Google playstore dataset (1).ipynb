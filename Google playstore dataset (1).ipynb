{
 "cells": [
  {
   "cell_type": "markdown",
   "id": "9742f31f-fa63-4812-be38-5d1ce02e0ecd",
   "metadata": {},
   "source": [
    "**Problem Statement:-**\n",
    "***Extracting Insights from Google Play Store Data for App Performance and Marketing Optimization.***\r\n",
    "\r\n",
    "\r\n"
   ]
  },
  {
   "cell_type": "markdown",
   "id": "b4a03152-cb82-4b6b-b308-9a7c94863a3a",
   "metadata": {},
   "source": [
    "**Google Play Store Data Set Cleaning, Analysing and Visualising in Python**"
   ]
  },
  {
   "cell_type": "code",
   "execution_count": 1,
   "id": "d63645fc-187f-4715-bd16-7c8fcb0a3bd2",
   "metadata": {},
   "outputs": [],
   "source": [
    "# Importing necessary libraries for data manipulation, analysis, and visualization\n",
    "import numpy as np       # NumPy for numerical operations and array handling\n",
    "import pandas as pd      # Pandas for data  analysis\n",
    "import matplotlib.pyplot as plt  # Matplotlib for creating visualizations"
   ]
  },
  {
   "cell_type": "code",
   "execution_count": 2,
   "id": "f9263603-d33c-4a7b-a2d2-932efd8323fc",
   "metadata": {},
   "outputs": [],
   "source": [
    "# Reading data from the 'googleplaystore.csv' file into a Pandas DataFrame\n",
    "GPData='googleplaystore.csv'\n",
    "GPDf=pd.read_csv(GPData)"
   ]
  },
  {
   "cell_type": "markdown",
   "id": "7ff7286f-147d-4700-b200-7a318e428140",
   "metadata": {},
   "source": [
    "**Google Play Store Data Analysis**"
   ]
  },
  {
   "cell_type": "code",
   "execution_count": 3,
   "id": "c571caaf-eb34-451b-a5a3-79300bc5c738",
   "metadata": {},
   "outputs": [
    {
     "data": {
      "text/html": [
       "<div>\n",
       "<style scoped>\n",
       "    .dataframe tbody tr th:only-of-type {\n",
       "        vertical-align: middle;\n",
       "    }\n",
       "\n",
       "    .dataframe tbody tr th {\n",
       "        vertical-align: top;\n",
       "    }\n",
       "\n",
       "    .dataframe thead th {\n",
       "        text-align: right;\n",
       "    }\n",
       "</style>\n",
       "<table border=\"1\" class=\"dataframe\">\n",
       "  <thead>\n",
       "    <tr style=\"text-align: right;\">\n",
       "      <th></th>\n",
       "      <th>Rating</th>\n",
       "      <th>App</th>\n",
       "      <th>Category</th>\n",
       "      <th>Reviews</th>\n",
       "      <th>Size</th>\n",
       "      <th>Installs</th>\n",
       "      <th>Type</th>\n",
       "      <th>Price</th>\n",
       "      <th>Content Rating</th>\n",
       "      <th>Genres</th>\n",
       "      <th>Last Updated</th>\n",
       "      <th>Current Ver</th>\n",
       "      <th>Android Ver</th>\n",
       "    </tr>\n",
       "  </thead>\n",
       "  <tbody>\n",
       "    <tr>\n",
       "      <th>0</th>\n",
       "      <td>4.1</td>\n",
       "      <td>Photo Editor &amp; Candy Camera &amp; Grid &amp; ScrapBook</td>\n",
       "      <td>ART_AND_DESIGN</td>\n",
       "      <td>159</td>\n",
       "      <td>19M</td>\n",
       "      <td>10,000+</td>\n",
       "      <td>Free</td>\n",
       "      <td>0</td>\n",
       "      <td>Everyone</td>\n",
       "      <td>Art &amp; Design</td>\n",
       "      <td>07-Jan-18</td>\n",
       "      <td>1.0.0</td>\n",
       "      <td>4.0.3 and up</td>\n",
       "    </tr>\n",
       "    <tr>\n",
       "      <th>1</th>\n",
       "      <td>3.9</td>\n",
       "      <td>Coloring book moana</td>\n",
       "      <td>ART_AND_DESIGN</td>\n",
       "      <td>967</td>\n",
       "      <td>14M</td>\n",
       "      <td>500,000+</td>\n",
       "      <td>Free</td>\n",
       "      <td>0</td>\n",
       "      <td>Everyone</td>\n",
       "      <td>Art &amp; Design;Pretend Play</td>\n",
       "      <td>15-Jan-18</td>\n",
       "      <td>2.0.0</td>\n",
       "      <td>4.0.3 and up</td>\n",
       "    </tr>\n",
       "    <tr>\n",
       "      <th>2</th>\n",
       "      <td>4.7</td>\n",
       "      <td>U Launcher Lite – FREE Live Cool Themes, Hide ...</td>\n",
       "      <td>ART_AND_DESIGN</td>\n",
       "      <td>87510</td>\n",
       "      <td>8.7M</td>\n",
       "      <td>5,000,000+</td>\n",
       "      <td>Free</td>\n",
       "      <td>0</td>\n",
       "      <td>Everyone</td>\n",
       "      <td>Art &amp; Design</td>\n",
       "      <td>01-Aug-18</td>\n",
       "      <td>1.2.4</td>\n",
       "      <td>4.0.3 and up</td>\n",
       "    </tr>\n",
       "    <tr>\n",
       "      <th>3</th>\n",
       "      <td>4.5</td>\n",
       "      <td>Sketch - Draw &amp; Paint</td>\n",
       "      <td>ART_AND_DESIGN</td>\n",
       "      <td>215644</td>\n",
       "      <td>25M</td>\n",
       "      <td>50,000,000+</td>\n",
       "      <td>Free</td>\n",
       "      <td>0</td>\n",
       "      <td>Teen</td>\n",
       "      <td>Art &amp; Design</td>\n",
       "      <td>08-Jun-18</td>\n",
       "      <td>Varies with device</td>\n",
       "      <td>4.2 and up</td>\n",
       "    </tr>\n",
       "    <tr>\n",
       "      <th>4</th>\n",
       "      <td>4.3</td>\n",
       "      <td>Pixel Draw - Number Art Coloring Book</td>\n",
       "      <td>ART_AND_DESIGN</td>\n",
       "      <td>967</td>\n",
       "      <td>2.8M</td>\n",
       "      <td>100,000+</td>\n",
       "      <td>Free</td>\n",
       "      <td>0</td>\n",
       "      <td>Everyone</td>\n",
       "      <td>Art &amp; Design;Creativity</td>\n",
       "      <td>20-Jun-18</td>\n",
       "      <td>1.1</td>\n",
       "      <td>4.4 and up</td>\n",
       "    </tr>\n",
       "  </tbody>\n",
       "</table>\n",
       "</div>"
      ],
      "text/plain": [
       "   Rating                                                App        Category  \\\n",
       "0     4.1     Photo Editor & Candy Camera & Grid & ScrapBook  ART_AND_DESIGN   \n",
       "1     3.9                                Coloring book moana  ART_AND_DESIGN   \n",
       "2     4.7  U Launcher Lite – FREE Live Cool Themes, Hide ...  ART_AND_DESIGN   \n",
       "3     4.5                              Sketch - Draw & Paint  ART_AND_DESIGN   \n",
       "4     4.3              Pixel Draw - Number Art Coloring Book  ART_AND_DESIGN   \n",
       "\n",
       "   Reviews  Size     Installs  Type Price Content Rating  \\\n",
       "0      159   19M      10,000+  Free     0       Everyone   \n",
       "1      967   14M     500,000+  Free     0       Everyone   \n",
       "2    87510  8.7M   5,000,000+  Free     0       Everyone   \n",
       "3   215644   25M  50,000,000+  Free     0           Teen   \n",
       "4      967  2.8M     100,000+  Free     0       Everyone   \n",
       "\n",
       "                      Genres Last Updated         Current Ver   Android Ver  \n",
       "0               Art & Design    07-Jan-18               1.0.0  4.0.3 and up  \n",
       "1  Art & Design;Pretend Play    15-Jan-18               2.0.0  4.0.3 and up  \n",
       "2               Art & Design    01-Aug-18               1.2.4  4.0.3 and up  \n",
       "3               Art & Design    08-Jun-18  Varies with device    4.2 and up  \n",
       "4    Art & Design;Creativity    20-Jun-18                 1.1    4.4 and up  "
      ]
     },
     "execution_count": 3,
     "metadata": {},
     "output_type": "execute_result"
    }
   ],
   "source": [
    "# Read the first five row of the dataset\n",
    "GPDf.head()"
   ]
  },
  {
   "cell_type": "code",
   "execution_count": 4,
   "id": "bbc60bda-4f4d-4269-922e-9e668f5b8a84",
   "metadata": {},
   "outputs": [
    {
     "name": "stdout",
     "output_type": "stream",
     "text": [
      "<class 'pandas.core.frame.DataFrame'>\n",
      "RangeIndex: 10840 entries, 0 to 10839\n",
      "Data columns (total 13 columns):\n",
      " #   Column          Non-Null Count  Dtype  \n",
      "---  ------          --------------  -----  \n",
      " 0   Rating          9366 non-null   float64\n",
      " 1   App             10840 non-null  object \n",
      " 2   Category        10840 non-null  object \n",
      " 3   Reviews         10840 non-null  int64  \n",
      " 4   Size            10840 non-null  object \n",
      " 5   Installs        10840 non-null  object \n",
      " 6   Type            10839 non-null  object \n",
      " 7   Price           10840 non-null  object \n",
      " 8   Content Rating  10840 non-null  object \n",
      " 9   Genres          10840 non-null  object \n",
      " 10  Last Updated    10840 non-null  object \n",
      " 11  Current Ver     10832 non-null  object \n",
      " 12  Android Ver     10838 non-null  object \n",
      "dtypes: float64(1), int64(1), object(11)\n",
      "memory usage: 1.1+ MB\n"
     ]
    }
   ],
   "source": [
    "# Displaying a concise summary of the DataFrame's information\n",
    "GPDf.info()"
   ]
  },
  {
   "cell_type": "markdown",
   "id": "92e994c6-1c30-45fa-941e-0215dc7f546b",
   "metadata": {},
   "source": [
    "**Total data entry, 10840. Total column is 13 and row is 10840.Index starting from 0 to 10839. Rating,Current Ver , Android Ver  columns have some missing values.Rating column has contained float data type and Reviews column has integer data type and the rest have object type data.**"
   ]
  },
  {
   "cell_type": "code",
   "execution_count": 5,
   "id": "59311f67-be7f-4856-b328-bd76234d1d7c",
   "metadata": {},
   "outputs": [
    {
     "data": {
      "text/html": [
       "<div>\n",
       "<style scoped>\n",
       "    .dataframe tbody tr th:only-of-type {\n",
       "        vertical-align: middle;\n",
       "    }\n",
       "\n",
       "    .dataframe tbody tr th {\n",
       "        vertical-align: top;\n",
       "    }\n",
       "\n",
       "    .dataframe thead th {\n",
       "        text-align: right;\n",
       "    }\n",
       "</style>\n",
       "<table border=\"1\" class=\"dataframe\">\n",
       "  <thead>\n",
       "    <tr style=\"text-align: right;\">\n",
       "      <th></th>\n",
       "      <th>Rating</th>\n",
       "      <th>Reviews</th>\n",
       "    </tr>\n",
       "  </thead>\n",
       "  <tbody>\n",
       "    <tr>\n",
       "      <th>count</th>\n",
       "      <td>9366.000000</td>\n",
       "      <td>1.084000e+04</td>\n",
       "    </tr>\n",
       "    <tr>\n",
       "      <th>mean</th>\n",
       "      <td>4.191757</td>\n",
       "      <td>4.441529e+05</td>\n",
       "    </tr>\n",
       "    <tr>\n",
       "      <th>std</th>\n",
       "      <td>0.515219</td>\n",
       "      <td>2.927761e+06</td>\n",
       "    </tr>\n",
       "    <tr>\n",
       "      <th>min</th>\n",
       "      <td>1.000000</td>\n",
       "      <td>0.000000e+00</td>\n",
       "    </tr>\n",
       "    <tr>\n",
       "      <th>25%</th>\n",
       "      <td>4.000000</td>\n",
       "      <td>3.800000e+01</td>\n",
       "    </tr>\n",
       "    <tr>\n",
       "      <th>50%</th>\n",
       "      <td>4.300000</td>\n",
       "      <td>2.094000e+03</td>\n",
       "    </tr>\n",
       "    <tr>\n",
       "      <th>75%</th>\n",
       "      <td>4.500000</td>\n",
       "      <td>5.477550e+04</td>\n",
       "    </tr>\n",
       "    <tr>\n",
       "      <th>max</th>\n",
       "      <td>5.000000</td>\n",
       "      <td>7.815831e+07</td>\n",
       "    </tr>\n",
       "  </tbody>\n",
       "</table>\n",
       "</div>"
      ],
      "text/plain": [
       "            Rating       Reviews\n",
       "count  9366.000000  1.084000e+04\n",
       "mean      4.191757  4.441529e+05\n",
       "std       0.515219  2.927761e+06\n",
       "min       1.000000  0.000000e+00\n",
       "25%       4.000000  3.800000e+01\n",
       "50%       4.300000  2.094000e+03\n",
       "75%       4.500000  5.477550e+04\n",
       "max       5.000000  7.815831e+07"
      ]
     },
     "execution_count": 5,
     "metadata": {},
     "output_type": "execute_result"
    }
   ],
   "source": [
    "# Generating descriptive statistics for the DataFrame\n",
    "GPDf.describe()"
   ]
  },
  {
   "cell_type": "code",
   "execution_count": 6,
   "id": "a01cd41e-d578-4ca6-a19d-6d1fdf6a0d3c",
   "metadata": {},
   "outputs": [
    {
     "data": {
      "text/html": [
       "<div>\n",
       "<style scoped>\n",
       "    .dataframe tbody tr th:only-of-type {\n",
       "        vertical-align: middle;\n",
       "    }\n",
       "\n",
       "    .dataframe tbody tr th {\n",
       "        vertical-align: top;\n",
       "    }\n",
       "\n",
       "    .dataframe thead th {\n",
       "        text-align: right;\n",
       "    }\n",
       "</style>\n",
       "<table border=\"1\" class=\"dataframe\">\n",
       "  <thead>\n",
       "    <tr style=\"text-align: right;\">\n",
       "      <th></th>\n",
       "      <th>App</th>\n",
       "      <th>Category</th>\n",
       "      <th>Size</th>\n",
       "      <th>Installs</th>\n",
       "      <th>Type</th>\n",
       "      <th>Price</th>\n",
       "      <th>Content Rating</th>\n",
       "      <th>Genres</th>\n",
       "      <th>Last Updated</th>\n",
       "      <th>Current Ver</th>\n",
       "      <th>Android Ver</th>\n",
       "    </tr>\n",
       "  </thead>\n",
       "  <tbody>\n",
       "    <tr>\n",
       "      <th>count</th>\n",
       "      <td>10840</td>\n",
       "      <td>10840</td>\n",
       "      <td>10840</td>\n",
       "      <td>10840</td>\n",
       "      <td>10839</td>\n",
       "      <td>10840</td>\n",
       "      <td>10840</td>\n",
       "      <td>10840</td>\n",
       "      <td>10840</td>\n",
       "      <td>10832</td>\n",
       "      <td>10838</td>\n",
       "    </tr>\n",
       "    <tr>\n",
       "      <th>unique</th>\n",
       "      <td>9659</td>\n",
       "      <td>33</td>\n",
       "      <td>461</td>\n",
       "      <td>21</td>\n",
       "      <td>2</td>\n",
       "      <td>92</td>\n",
       "      <td>6</td>\n",
       "      <td>119</td>\n",
       "      <td>1377</td>\n",
       "      <td>2783</td>\n",
       "      <td>33</td>\n",
       "    </tr>\n",
       "    <tr>\n",
       "      <th>top</th>\n",
       "      <td>ROBLOX</td>\n",
       "      <td>FAMILY</td>\n",
       "      <td>Varies with device</td>\n",
       "      <td>1,000,000+</td>\n",
       "      <td>Free</td>\n",
       "      <td>0</td>\n",
       "      <td>Everyone</td>\n",
       "      <td>Tools</td>\n",
       "      <td>03-Aug-18</td>\n",
       "      <td>Varies with device</td>\n",
       "      <td>4.1 and up</td>\n",
       "    </tr>\n",
       "    <tr>\n",
       "      <th>freq</th>\n",
       "      <td>9</td>\n",
       "      <td>1972</td>\n",
       "      <td>1695</td>\n",
       "      <td>1579</td>\n",
       "      <td>10039</td>\n",
       "      <td>10040</td>\n",
       "      <td>8714</td>\n",
       "      <td>842</td>\n",
       "      <td>326</td>\n",
       "      <td>1459</td>\n",
       "      <td>2451</td>\n",
       "    </tr>\n",
       "  </tbody>\n",
       "</table>\n",
       "</div>"
      ],
      "text/plain": [
       "           App Category                Size    Installs   Type  Price  \\\n",
       "count    10840    10840               10840       10840  10839  10840   \n",
       "unique    9659       33                 461          21      2     92   \n",
       "top     ROBLOX   FAMILY  Varies with device  1,000,000+   Free      0   \n",
       "freq         9     1972                1695        1579  10039  10040   \n",
       "\n",
       "       Content Rating Genres Last Updated         Current Ver Android Ver  \n",
       "count           10840  10840        10840               10832       10838  \n",
       "unique              6    119         1377                2783          33  \n",
       "top          Everyone  Tools    03-Aug-18  Varies with device  4.1 and up  \n",
       "freq             8714    842          326                1459        2451  "
      ]
     },
     "execution_count": 6,
     "metadata": {},
     "output_type": "execute_result"
    }
   ],
   "source": [
    "# Generating descriptive statistics for columns with object (categorical) data types\n",
    "GPDf.describe(include=object)"
   ]
  },
  {
   "cell_type": "code",
   "execution_count": 7,
   "id": "692ae15e-7c78-4133-942b-ec7664f3ced6",
   "metadata": {},
   "outputs": [
    {
     "data": {
      "text/plain": [
       "Rating            1474\n",
       "App                  0\n",
       "Category             0\n",
       "Reviews              0\n",
       "Size                 0\n",
       "Installs             0\n",
       "Type                 1\n",
       "Price                0\n",
       "Content Rating       0\n",
       "Genres               0\n",
       "Last Updated         0\n",
       "Current Ver          8\n",
       "Android Ver          2\n",
       "dtype: int64"
      ]
     },
     "execution_count": 7,
     "metadata": {},
     "output_type": "execute_result"
    }
   ],
   "source": [
    "# Counting the number of missing values (null) in each column of the DataFrame\n",
    "GPDf.isnull().sum()"
   ]
  },
  {
   "cell_type": "markdown",
   "id": "3729a964-8fb3-4a4e-929f-23f257a58b51",
   "metadata": {},
   "source": [
    "**Here, we can see that, here the column \"Rating\", \"Type\", \"Current Ver\" and \"Android Ver\" have the null values in the dataframe.**"
   ]
  },
  {
   "cell_type": "code",
   "execution_count": 8,
   "id": "7633b3d3-49fe-491b-8e39-f1497b40ab35",
   "metadata": {},
   "outputs": [
    {
     "data": {
      "text/plain": [
       "False    10357\n",
       "True       483\n",
       "Name: count, dtype: int64"
      ]
     },
     "execution_count": 8,
     "metadata": {},
     "output_type": "execute_result"
    }
   ],
   "source": [
    "# Counting the occurrences of duplicated rows in the DataFrame\n",
    "GPDf.duplicated().value_counts()"
   ]
  },
  {
   "cell_type": "markdown",
   "id": "c2cd9100-ee9d-4095-9579-3b220f456264",
   "metadata": {},
   "source": [
    " **Here we can see that 483 duplicate rows are present in the given Dataframe**"
   ]
  },
  {
   "cell_type": "markdown",
   "id": "33db0190-085d-445c-862f-54ebf3446918",
   "metadata": {},
   "source": [
    "**Data Cleaning**"
   ]
  },
  {
   "cell_type": "code",
   "execution_count": 9,
   "id": "fd1ea8b2-0793-47de-bd4a-72c2c7007df6",
   "metadata": {},
   "outputs": [
    {
     "data": {
      "text/plain": [
       "0"
      ]
     },
     "execution_count": 9,
     "metadata": {},
     "output_type": "execute_result"
    }
   ],
   "source": [
    "# Dropping duplicate rows from the DataFrame in-place\n",
    "GPDf.drop_duplicates(inplace=True)\n",
    "# Counting the occurrences of duplicated rows after removing duplicates\n",
    "GPDf.duplicated().sum()"
   ]
  },
  {
   "cell_type": "code",
   "execution_count": 10,
   "id": "fbc59eac-ae06-41d6-b868-e22dd19c881a",
   "metadata": {},
   "outputs": [
    {
     "data": {
      "text/plain": [
       "False    10357\n",
       "Name: count, dtype: int64"
      ]
     },
     "execution_count": 10,
     "metadata": {},
     "output_type": "execute_result"
    }
   ],
   "source": [
    "GPDf.duplicated().value_counts()"
   ]
  },
  {
   "cell_type": "code",
   "execution_count": 11,
   "id": "31e78a57-6d16-4161-894b-73e1e907f65d",
   "metadata": {},
   "outputs": [
    {
     "data": {
      "text/plain": [
       "Rating            1465\n",
       "App                  0\n",
       "Category             0\n",
       "Reviews              0\n",
       "Size                 0\n",
       "Installs             0\n",
       "Type                 1\n",
       "Price                0\n",
       "Content Rating       0\n",
       "Genres               0\n",
       "Last Updated         0\n",
       "Current Ver          8\n",
       "Android Ver          2\n",
       "dtype: int64"
      ]
     },
     "execution_count": 11,
     "metadata": {},
     "output_type": "execute_result"
    }
   ],
   "source": [
    "GPDf.isnull().sum()"
   ]
  },
  {
   "cell_type": "code",
   "execution_count": 12,
   "id": "c69d19cc-6b77-43f9-a41c-d70c1a32d721",
   "metadata": {},
   "outputs": [
    {
     "data": {
      "text/plain": [
       "0"
      ]
     },
     "execution_count": 12,
     "metadata": {},
     "output_type": "execute_result"
    }
   ],
   "source": [
    "# Filling missing values in the 'Rating' column with the mean value in-place\n",
    "GPDf['Rating'].fillna(GPDf['Rating'].mean(),inplace=True)\n",
    "# Counting the occurrences of remaining missing values in the 'Rating' column\n",
    "GPDf['Rating'].isnull().sum()"
   ]
  },
  {
   "cell_type": "markdown",
   "id": "6d87e807-240c-4b54-b55f-8f977bf73943",
   "metadata": {},
   "source": [
    "**1465 null values present in the Rating column. If we drop all the null value from the this columns, then it will impact a huge difference in the result. That's why we use, fillna() method. After filling the null values with mean value, the isnull().sum() returns 0. That means, all the null values are filled.**"
   ]
  },
  {
   "cell_type": "code",
   "execution_count": 13,
   "id": "5e3f5bbf-b64f-4746-b574-da3da1477234",
   "metadata": {},
   "outputs": [
    {
     "data": {
      "text/plain": [
       "1"
      ]
     },
     "execution_count": 13,
     "metadata": {},
     "output_type": "execute_result"
    }
   ],
   "source": [
    "# Counting the occurrences of missing values in the 'Type' column\n",
    "GPDf['Type'].isnull().sum()"
   ]
  },
  {
   "cell_type": "code",
   "execution_count": 14,
   "id": "2a58ae6b-b09a-4ff1-8a41-109da445d8a3",
   "metadata": {},
   "outputs": [
    {
     "name": "stdout",
     "output_type": "stream",
     "text": [
      "\n",
      "Show the rows in Type Column, which contain the null values \n"
     ]
    },
    {
     "data": {
      "text/html": [
       "<div>\n",
       "<style scoped>\n",
       "    .dataframe tbody tr th:only-of-type {\n",
       "        vertical-align: middle;\n",
       "    }\n",
       "\n",
       "    .dataframe tbody tr th {\n",
       "        vertical-align: top;\n",
       "    }\n",
       "\n",
       "    .dataframe thead th {\n",
       "        text-align: right;\n",
       "    }\n",
       "</style>\n",
       "<table border=\"1\" class=\"dataframe\">\n",
       "  <thead>\n",
       "    <tr style=\"text-align: right;\">\n",
       "      <th></th>\n",
       "      <th>Rating</th>\n",
       "      <th>App</th>\n",
       "      <th>Category</th>\n",
       "      <th>Reviews</th>\n",
       "      <th>Size</th>\n",
       "      <th>Installs</th>\n",
       "      <th>Type</th>\n",
       "      <th>Price</th>\n",
       "      <th>Content Rating</th>\n",
       "      <th>Genres</th>\n",
       "      <th>Last Updated</th>\n",
       "      <th>Current Ver</th>\n",
       "      <th>Android Ver</th>\n",
       "    </tr>\n",
       "  </thead>\n",
       "  <tbody>\n",
       "    <tr>\n",
       "      <th>9148</th>\n",
       "      <td>4.187877</td>\n",
       "      <td>Command &amp; Conquer: Rivals</td>\n",
       "      <td>FAMILY</td>\n",
       "      <td>0</td>\n",
       "      <td>Varies with device</td>\n",
       "      <td>0</td>\n",
       "      <td>NaN</td>\n",
       "      <td>0</td>\n",
       "      <td>Everyone 10+</td>\n",
       "      <td>Strategy</td>\n",
       "      <td>28-Jun-18</td>\n",
       "      <td>Varies with device</td>\n",
       "      <td>Varies with device</td>\n",
       "    </tr>\n",
       "  </tbody>\n",
       "</table>\n",
       "</div>"
      ],
      "text/plain": [
       "        Rating                        App Category  Reviews  \\\n",
       "9148  4.187877  Command & Conquer: Rivals   FAMILY        0   \n",
       "\n",
       "                    Size Installs Type Price Content Rating    Genres  \\\n",
       "9148  Varies with device        0  NaN     0   Everyone 10+  Strategy   \n",
       "\n",
       "     Last Updated         Current Ver         Android Ver  \n",
       "9148    28-Jun-18  Varies with device  Varies with device  "
      ]
     },
     "execution_count": 14,
     "metadata": {},
     "output_type": "execute_result"
    }
   ],
   "source": [
    "# Print rows in the 'Type' column where values are null\n",
    "print(\"\\nShow the rows in Type Column, which contain the null values \")\n",
    "GPDf[GPDf['Type'].isnull()]"
   ]
  },
  {
   "cell_type": "code",
   "execution_count": 15,
   "id": "78844bfa-aff0-40b3-a8c6-1325694aab70",
   "metadata": {},
   "outputs": [
    {
     "data": {
      "text/plain": [
       "0"
      ]
     },
     "execution_count": 15,
     "metadata": {},
     "output_type": "execute_result"
    }
   ],
   "source": [
    "# Dropping rows with missing values in the 'Type' column in-place\n",
    "GPDf.dropna(subset=['Type'],inplace=True)\n",
    "# Counting the occurrences of missing values in the 'Type' column\n",
    "GPDf['Type'].isnull().sum()"
   ]
  },
  {
   "cell_type": "code",
   "execution_count": 16,
   "id": "a7391064-9875-42e2-b166-5196ec1a2471",
   "metadata": {},
   "outputs": [
    {
     "data": {
      "text/plain": [
       "Rating            0\n",
       "App               0\n",
       "Category          0\n",
       "Reviews           0\n",
       "Size              0\n",
       "Installs          0\n",
       "Type              0\n",
       "Price             0\n",
       "Content Rating    0\n",
       "Genres            0\n",
       "Last Updated      0\n",
       "Current Ver       8\n",
       "Android Ver       2\n",
       "dtype: int64"
      ]
     },
     "execution_count": 16,
     "metadata": {},
     "output_type": "execute_result"
    }
   ],
   "source": [
    "# Counting the occurrences of missing values in each column of the DataFrame for our work convenience\n",
    "GPDf.isnull().sum()"
   ]
  },
  {
   "cell_type": "code",
   "execution_count": 17,
   "id": "568976db-c6e7-4973-afd9-076999dac9c1",
   "metadata": {},
   "outputs": [
    {
     "name": "stdout",
     "output_type": "stream",
     "text": [
      "\n",
      " The rows in Current Version Column, which contain the null values\n"
     ]
    },
    {
     "data": {
      "text/html": [
       "<div>\n",
       "<style scoped>\n",
       "    .dataframe tbody tr th:only-of-type {\n",
       "        vertical-align: middle;\n",
       "    }\n",
       "\n",
       "    .dataframe tbody tr th {\n",
       "        vertical-align: top;\n",
       "    }\n",
       "\n",
       "    .dataframe thead th {\n",
       "        text-align: right;\n",
       "    }\n",
       "</style>\n",
       "<table border=\"1\" class=\"dataframe\">\n",
       "  <thead>\n",
       "    <tr style=\"text-align: right;\">\n",
       "      <th></th>\n",
       "      <th>Rating</th>\n",
       "      <th>App</th>\n",
       "      <th>Category</th>\n",
       "      <th>Reviews</th>\n",
       "      <th>Size</th>\n",
       "      <th>Installs</th>\n",
       "      <th>Type</th>\n",
       "      <th>Price</th>\n",
       "      <th>Content Rating</th>\n",
       "      <th>Genres</th>\n",
       "      <th>Last Updated</th>\n",
       "      <th>Current Ver</th>\n",
       "      <th>Android Ver</th>\n",
       "    </tr>\n",
       "  </thead>\n",
       "  <tbody>\n",
       "    <tr>\n",
       "      <th>15</th>\n",
       "      <td>3.200000</td>\n",
       "      <td>Learn To Draw Kawaii Characters</td>\n",
       "      <td>ART_AND_DESIGN</td>\n",
       "      <td>55</td>\n",
       "      <td>2.7M</td>\n",
       "      <td>5,000+</td>\n",
       "      <td>Free</td>\n",
       "      <td>0</td>\n",
       "      <td>Everyone</td>\n",
       "      <td>Art &amp; Design</td>\n",
       "      <td>06-Jun-18</td>\n",
       "      <td>NaN</td>\n",
       "      <td>4.2 and up</td>\n",
       "    </tr>\n",
       "    <tr>\n",
       "      <th>1553</th>\n",
       "      <td>4.100000</td>\n",
       "      <td>Market Update Helper</td>\n",
       "      <td>LIBRARIES_AND_DEMO</td>\n",
       "      <td>20145</td>\n",
       "      <td>11k</td>\n",
       "      <td>1,000,000+</td>\n",
       "      <td>Free</td>\n",
       "      <td>0</td>\n",
       "      <td>Everyone</td>\n",
       "      <td>Libraries &amp; Demo</td>\n",
       "      <td>12-Feb-13</td>\n",
       "      <td>NaN</td>\n",
       "      <td>1.5 and up</td>\n",
       "    </tr>\n",
       "    <tr>\n",
       "      <th>6322</th>\n",
       "      <td>4.200000</td>\n",
       "      <td>Virtual DJ Sound Mixer</td>\n",
       "      <td>TOOLS</td>\n",
       "      <td>4010</td>\n",
       "      <td>8.7M</td>\n",
       "      <td>500,000+</td>\n",
       "      <td>Free</td>\n",
       "      <td>0</td>\n",
       "      <td>Everyone</td>\n",
       "      <td>Tools</td>\n",
       "      <td>10-May-17</td>\n",
       "      <td>NaN</td>\n",
       "      <td>4.0 and up</td>\n",
       "    </tr>\n",
       "    <tr>\n",
       "      <th>6803</th>\n",
       "      <td>4.187877</td>\n",
       "      <td>BT Master</td>\n",
       "      <td>FAMILY</td>\n",
       "      <td>0</td>\n",
       "      <td>222k</td>\n",
       "      <td>100+</td>\n",
       "      <td>Free</td>\n",
       "      <td>0</td>\n",
       "      <td>Everyone</td>\n",
       "      <td>Education</td>\n",
       "      <td>06-Nov-16</td>\n",
       "      <td>NaN</td>\n",
       "      <td>1.6 and up</td>\n",
       "    </tr>\n",
       "    <tr>\n",
       "      <th>7333</th>\n",
       "      <td>4.000000</td>\n",
       "      <td>Dots puzzle</td>\n",
       "      <td>FAMILY</td>\n",
       "      <td>179</td>\n",
       "      <td>14M</td>\n",
       "      <td>50,000+</td>\n",
       "      <td>Paid</td>\n",
       "      <td>$0.99</td>\n",
       "      <td>Everyone</td>\n",
       "      <td>Puzzle</td>\n",
       "      <td>18-Apr-18</td>\n",
       "      <td>NaN</td>\n",
       "      <td>4.0 and up</td>\n",
       "    </tr>\n",
       "    <tr>\n",
       "      <th>7407</th>\n",
       "      <td>4.187877</td>\n",
       "      <td>Calculate My IQ</td>\n",
       "      <td>FAMILY</td>\n",
       "      <td>44</td>\n",
       "      <td>7.2M</td>\n",
       "      <td>10,000+</td>\n",
       "      <td>Free</td>\n",
       "      <td>0</td>\n",
       "      <td>Everyone</td>\n",
       "      <td>Entertainment</td>\n",
       "      <td>03-Apr-17</td>\n",
       "      <td>NaN</td>\n",
       "      <td>2.3 and up</td>\n",
       "    </tr>\n",
       "    <tr>\n",
       "      <th>7730</th>\n",
       "      <td>4.187877</td>\n",
       "      <td>UFO-CQ</td>\n",
       "      <td>TOOLS</td>\n",
       "      <td>1</td>\n",
       "      <td>237k</td>\n",
       "      <td>10+</td>\n",
       "      <td>Paid</td>\n",
       "      <td>$0.99</td>\n",
       "      <td>Everyone</td>\n",
       "      <td>Tools</td>\n",
       "      <td>04-Jul-16</td>\n",
       "      <td>NaN</td>\n",
       "      <td>2.0 and up</td>\n",
       "    </tr>\n",
       "    <tr>\n",
       "      <th>10342</th>\n",
       "      <td>4.187877</td>\n",
       "      <td>La Fe de Jesus</td>\n",
       "      <td>BOOKS_AND_REFERENCE</td>\n",
       "      <td>8</td>\n",
       "      <td>658k</td>\n",
       "      <td>1,000+</td>\n",
       "      <td>Free</td>\n",
       "      <td>0</td>\n",
       "      <td>Everyone</td>\n",
       "      <td>Books &amp; Reference</td>\n",
       "      <td>31-Jan-17</td>\n",
       "      <td>NaN</td>\n",
       "      <td>3.0 and up</td>\n",
       "    </tr>\n",
       "  </tbody>\n",
       "</table>\n",
       "</div>"
      ],
      "text/plain": [
       "         Rating                              App             Category  \\\n",
       "15     3.200000  Learn To Draw Kawaii Characters       ART_AND_DESIGN   \n",
       "1553   4.100000             Market Update Helper   LIBRARIES_AND_DEMO   \n",
       "6322   4.200000           Virtual DJ Sound Mixer                TOOLS   \n",
       "6803   4.187877                        BT Master               FAMILY   \n",
       "7333   4.000000                      Dots puzzle               FAMILY   \n",
       "7407   4.187877                  Calculate My IQ               FAMILY   \n",
       "7730   4.187877                           UFO-CQ                TOOLS   \n",
       "10342  4.187877                   La Fe de Jesus  BOOKS_AND_REFERENCE   \n",
       "\n",
       "       Reviews  Size    Installs  Type   Price Content Rating  \\\n",
       "15          55  2.7M      5,000+  Free       0       Everyone   \n",
       "1553     20145   11k  1,000,000+  Free       0       Everyone   \n",
       "6322      4010  8.7M    500,000+  Free       0       Everyone   \n",
       "6803         0  222k        100+  Free       0       Everyone   \n",
       "7333       179   14M     50,000+  Paid  $0.99        Everyone   \n",
       "7407        44  7.2M     10,000+  Free       0       Everyone   \n",
       "7730         1  237k         10+  Paid  $0.99        Everyone   \n",
       "10342        8  658k      1,000+  Free       0       Everyone   \n",
       "\n",
       "                  Genres Last Updated Current Ver Android Ver  \n",
       "15          Art & Design    06-Jun-18         NaN  4.2 and up  \n",
       "1553    Libraries & Demo    12-Feb-13         NaN  1.5 and up  \n",
       "6322               Tools    10-May-17         NaN  4.0 and up  \n",
       "6803           Education    06-Nov-16         NaN  1.6 and up  \n",
       "7333              Puzzle    18-Apr-18         NaN  4.0 and up  \n",
       "7407       Entertainment    03-Apr-17         NaN  2.3 and up  \n",
       "7730               Tools    04-Jul-16         NaN  2.0 and up  \n",
       "10342  Books & Reference    31-Jan-17         NaN  3.0 and up  "
      ]
     },
     "execution_count": 17,
     "metadata": {},
     "output_type": "execute_result"
    }
   ],
   "source": [
    "# Print rows in the 'Current Ver' column where values are null\n",
    "print(\"\\n The rows in Current Version Column, which contain the null values\")\n",
    "GPDf[GPDf['Current Ver'].isnull()]"
   ]
  },
  {
   "cell_type": "code",
   "execution_count": 18,
   "id": "fc21963d-fa04-4fc4-a9a6-604ab07ef2ca",
   "metadata": {},
   "outputs": [
    {
     "data": {
      "text/plain": [
       "0"
      ]
     },
     "execution_count": 18,
     "metadata": {},
     "output_type": "execute_result"
    }
   ],
   "source": [
    "# Filling missing values in the 'Current Ver' column with 'Based on Device' in-place\n",
    "GPDf['Current Ver'].fillna(value='Based on Device',inplace=True)\n",
    "# Counting the occurrences of remaining missing values in the 'Current Ver' column\n",
    "GPDf['Current Ver'].isnull().sum()"
   ]
  },
  {
   "cell_type": "code",
   "execution_count": 19,
   "id": "ab646718-922c-4ffd-9227-50078dbaf562",
   "metadata": {},
   "outputs": [
    {
     "name": "stdout",
     "output_type": "stream",
     "text": [
      "\n",
      "The rows in Android Version Column, which contain the null values\n"
     ]
    },
    {
     "data": {
      "text/html": [
       "<div>\n",
       "<style scoped>\n",
       "    .dataframe tbody tr th:only-of-type {\n",
       "        vertical-align: middle;\n",
       "    }\n",
       "\n",
       "    .dataframe tbody tr th {\n",
       "        vertical-align: top;\n",
       "    }\n",
       "\n",
       "    .dataframe thead th {\n",
       "        text-align: right;\n",
       "    }\n",
       "</style>\n",
       "<table border=\"1\" class=\"dataframe\">\n",
       "  <thead>\n",
       "    <tr style=\"text-align: right;\">\n",
       "      <th></th>\n",
       "      <th>Rating</th>\n",
       "      <th>App</th>\n",
       "      <th>Category</th>\n",
       "      <th>Reviews</th>\n",
       "      <th>Size</th>\n",
       "      <th>Installs</th>\n",
       "      <th>Type</th>\n",
       "      <th>Price</th>\n",
       "      <th>Content Rating</th>\n",
       "      <th>Genres</th>\n",
       "      <th>Last Updated</th>\n",
       "      <th>Current Ver</th>\n",
       "      <th>Android Ver</th>\n",
       "    </tr>\n",
       "  </thead>\n",
       "  <tbody>\n",
       "    <tr>\n",
       "      <th>4453</th>\n",
       "      <td>4.4</td>\n",
       "      <td>[substratum] Vacuum: P</td>\n",
       "      <td>PERSONALIZATION</td>\n",
       "      <td>230</td>\n",
       "      <td>11M</td>\n",
       "      <td>1,000+</td>\n",
       "      <td>Paid</td>\n",
       "      <td>$1.49</td>\n",
       "      <td>Everyone</td>\n",
       "      <td>Personalization</td>\n",
       "      <td>20-Jul-18</td>\n",
       "      <td>4.4</td>\n",
       "      <td>NaN</td>\n",
       "    </tr>\n",
       "    <tr>\n",
       "      <th>4490</th>\n",
       "      <td>4.5</td>\n",
       "      <td>Pi Dark [substratum]</td>\n",
       "      <td>PERSONALIZATION</td>\n",
       "      <td>189</td>\n",
       "      <td>2.1M</td>\n",
       "      <td>10,000+</td>\n",
       "      <td>Free</td>\n",
       "      <td>0</td>\n",
       "      <td>Everyone</td>\n",
       "      <td>Personalization</td>\n",
       "      <td>27-Mar-18</td>\n",
       "      <td>1.1</td>\n",
       "      <td>NaN</td>\n",
       "    </tr>\n",
       "  </tbody>\n",
       "</table>\n",
       "</div>"
      ],
      "text/plain": [
       "      Rating                     App         Category  Reviews  Size Installs  \\\n",
       "4453     4.4  [substratum] Vacuum: P  PERSONALIZATION      230   11M   1,000+   \n",
       "4490     4.5    Pi Dark [substratum]  PERSONALIZATION      189  2.1M  10,000+   \n",
       "\n",
       "      Type   Price Content Rating           Genres Last Updated Current Ver  \\\n",
       "4453  Paid  $1.49        Everyone  Personalization    20-Jul-18         4.4   \n",
       "4490  Free       0       Everyone  Personalization    27-Mar-18         1.1   \n",
       "\n",
       "     Android Ver  \n",
       "4453         NaN  \n",
       "4490         NaN  "
      ]
     },
     "execution_count": 19,
     "metadata": {},
     "output_type": "execute_result"
    }
   ],
   "source": [
    "# Print rows in the 'Android Ver' column where values are null\n",
    "print(\"\\nThe rows in Android Version Column, which contain the null values\")\n",
    "GPDf[GPDf['Android Ver'].isnull()]"
   ]
  },
  {
   "cell_type": "code",
   "execution_count": 20,
   "id": "a743210d-695a-4a33-a9b4-865948feddf5",
   "metadata": {},
   "outputs": [
    {
     "data": {
      "text/plain": [
       "0"
      ]
     },
     "execution_count": 20,
     "metadata": {},
     "output_type": "execute_result"
    }
   ],
   "source": [
    "# Filling missing values in the 'Android Ver' column with 'Based on Android Ver' in-place\n",
    "GPDf['Android Ver'].fillna(value='Based on Android Ver',inplace=True)\n",
    "# Counting the occurrences of remaining missing values in the 'Android Ver' column\n",
    "GPDf['Android Ver'].isnull().sum()"
   ]
  },
  {
   "cell_type": "code",
   "execution_count": 21,
   "id": "fb0cd0b4-0391-4914-835a-035ace2a9397",
   "metadata": {},
   "outputs": [
    {
     "data": {
      "text/plain": [
       "Rating            0\n",
       "App               0\n",
       "Category          0\n",
       "Reviews           0\n",
       "Size              0\n",
       "Installs          0\n",
       "Type              0\n",
       "Price             0\n",
       "Content Rating    0\n",
       "Genres            0\n",
       "Last Updated      0\n",
       "Current Ver       0\n",
       "Android Ver       0\n",
       "dtype: int64"
      ]
     },
     "execution_count": 21,
     "metadata": {},
     "output_type": "execute_result"
    }
   ],
   "source": [
    "# Counting the occurrences of missing values in each column of the DataFrame\n",
    "GPDf.isnull().sum()"
   ]
  },
  {
   "cell_type": "code",
   "execution_count": 22,
   "id": "b25f7f37-69f1-42fd-81bb-d208e81632df",
   "metadata": {},
   "outputs": [
    {
     "name": "stdout",
     "output_type": "stream",
     "text": [
      "<class 'pandas.core.frame.DataFrame'>\n",
      "Index: 10356 entries, 0 to 10839\n",
      "Data columns (total 13 columns):\n",
      " #   Column          Non-Null Count  Dtype  \n",
      "---  ------          --------------  -----  \n",
      " 0   Rating          10356 non-null  float64\n",
      " 1   App             10356 non-null  object \n",
      " 2   Category        10356 non-null  object \n",
      " 3   Reviews         10356 non-null  int64  \n",
      " 4   Size            10356 non-null  object \n",
      " 5   Installs        10356 non-null  object \n",
      " 6   Type            10356 non-null  object \n",
      " 7   Price           10356 non-null  object \n",
      " 8   Content Rating  10356 non-null  object \n",
      " 9   Genres          10356 non-null  object \n",
      " 10  Last Updated    10356 non-null  object \n",
      " 11  Current Ver     10356 non-null  object \n",
      " 12  Android Ver     10356 non-null  object \n",
      "dtypes: float64(1), int64(1), object(11)\n",
      "memory usage: 1.1+ MB\n"
     ]
    }
   ],
   "source": [
    "# Displaying a concise summary of the DataFrame's information\n",
    "GPDf.info()"
   ]
  },
  {
   "cell_type": "code",
   "execution_count": 23,
   "id": "89860121-125d-4f6c-a7f0-3d30e6c49ef8",
   "metadata": {},
   "outputs": [
    {
     "data": {
      "text/plain": [
       "count      10356\n",
       "unique        33\n",
       "top       FAMILY\n",
       "freq        1942\n",
       "Name: Category, dtype: object"
      ]
     },
     "execution_count": 23,
     "metadata": {},
     "output_type": "execute_result"
    }
   ],
   "source": [
    "# Descriptive statistics for the 'Category' column (object data type)\n",
    "GPDf['Category'].describe(include=object)"
   ]
  },
  {
   "cell_type": "code",
   "execution_count": 24,
   "id": "f859d898-2e86-4b4c-ab87-27086f519249",
   "metadata": {},
   "outputs": [
    {
     "name": "stdout",
     "output_type": "stream",
     "text": [
      "                      App\n",
      "Category                 \n",
      "ART_AND_DESIGN         65\n",
      "AUTO_AND_VEHICLES      85\n",
      "BEAUTY                 53\n",
      "BOOKS_AND_REFERENCE   230\n",
      "BUSINESS              427\n",
      "COMICS                 60\n",
      "COMMUNICATION         366\n",
      "DATING                196\n",
      "EDUCATION             130\n",
      "ENTERTAINMENT         111\n",
      "EVENTS                 64\n",
      "FAMILY               1942\n",
      "FINANCE               360\n",
      "FOOD_AND_DRINK        124\n",
      "GAME                 1121\n",
      "HEALTH_AND_FITNESS    306\n",
      "HOUSE_AND_HOME         80\n",
      "LIBRARIES_AND_DEMO     85\n",
      "LIFESTYLE             373\n",
      "MAPS_AND_NAVIGATION   137\n",
      "MEDICAL               408\n",
      "NEWS_AND_MAGAZINES    264\n",
      "PARENTING              60\n",
      "PERSONALIZATION       388\n",
      "PHOTOGRAPHY           322\n",
      "PRODUCTIVITY          407\n",
      "SHOPPING              224\n",
      "SOCIAL                280\n",
      "SPORTS                351\n",
      "TOOLS                 843\n",
      "TRAVEL_AND_LOCAL      237\n",
      "VIDEO_PLAYERS         175\n",
      "WEATHER                82\n"
     ]
    }
   ],
   "source": [
    "# Creating a pivot table to count the number of unique apps for each category\n",
    "category_App_Pivot=pd.pivot_table(GPDf,index=['Category'],values=['App'],aggfunc='count')\n",
    "# Printing the resulting pivot table\n",
    "print(category_App_Pivot)"
   ]
  },
  {
   "cell_type": "code",
   "execution_count": 25,
   "id": "71b0301e-97ab-42ab-9825-bcc5f918c9fb",
   "metadata": {},
   "outputs": [
    {
     "data": {
      "image/png": "[encoded data removed]",
      "text/plain": [
       "<Figure size 640x480 with 1 Axes>"
      ]
     },
     "metadata": {},
     "output_type": "display_data"
    }
   ],
   "source": [
    "# Creating a bar plot for the Category-wise count of Apps\n",
    "category_App_Pivot.plot(kind='bar',color='DeepSkyBlue',edgecolor='black')\n",
    "# Adding title and labels to the plot\n",
    "plt.title(\"Show Category wise Apps\")\n",
    "plt.xlabel(\"Apps Category\")\n",
    "plt.ylabel(\"Category wise Apps Number\")\n",
    "# Displaying the plot\n",
    "plt.show()"
   ]
  },
  {
   "cell_type": "markdown",
   "id": "cf09f824-2659-4f9a-a407-74394652bc68",
   "metadata": {},
   "source": [
    "***The graph displays the number of apps available in various categories. The “Family” category has the highest number of apps,followed by “Game” and “Tools”. Most other categories have a relatively similar and lower number of apps***"
   ]
  },
  {
   "cell_type": "code",
   "execution_count": 26,
   "id": "88877b67-9be8-42b6-88c6-935576312c72",
   "metadata": {},
   "outputs": [
    {
     "data": {
      "image/png": "[encoded data removed]",
      "text/plain": [
       "<Figure size 640x480 with 1 Axes>"
      ]
     },
     "metadata": {},
     "output_type": "display_data"
    }
   ],
   "source": [
    "# Creating a line chart to visualize  the Counts of Content Ratings\n",
    "content_rating_counts = GPDf['Content Rating'].value_counts()\n",
    "content_rating_counts.plot(kind='line', marker='o', color='red', linestyle='-', markerfacecolor='black', markersize=5)\n",
    "# Set chart title and labels\n",
    "plt.title('Counts of Content Ratings')\n",
    "plt.xlabel('Content Ratings')\n",
    "plt.ylabel('Counts')\n",
    "\n",
    "# Rotate x-axis labels\n",
    "plt.xticks(rotation=45) \n",
    "\n",
    "# Show the line chart\n",
    "plt.show()"
   ]
  },
  {
   "cell_type": "markdown",
   "id": "217166a3-9ff6-43e2-a234-2baaa3dc900d",
   "metadata": {},
   "source": [
    "**The majority of contents are rated for “Everyone,” with the count exceeding 8000. However, there is a sharp decline in counts for the “Teen” rating and it continues to decrease across other categories: “Mature 17+”, “Everyone 10+”, “Adults only 18+”, and “Unrated.” The graph indicates that most content is made accessible to everyone, while specific age-rated and unrated contents are considerably less common.**"
   ]
  },
  {
   "cell_type": "code",
   "execution_count": 27,
   "id": "27360e1a-6168-422a-a947-8186c9449f53",
   "metadata": {},
   "outputs": [
    {
     "data": {
      "text/html": [
       "<div>\n",
       "<style scoped>\n",
       "    .dataframe tbody tr th:only-of-type {\n",
       "        vertical-align: middle;\n",
       "    }\n",
       "\n",
       "    .dataframe tbody tr th {\n",
       "        vertical-align: top;\n",
       "    }\n",
       "\n",
       "    .dataframe thead th {\n",
       "        text-align: right;\n",
       "    }\n",
       "</style>\n",
       "<table border=\"1\" class=\"dataframe\">\n",
       "  <thead>\n",
       "    <tr style=\"text-align: right;\">\n",
       "      <th></th>\n",
       "      <th>App</th>\n",
       "      <th>Rating</th>\n",
       "    </tr>\n",
       "    <tr>\n",
       "      <th>Category</th>\n",
       "      <th></th>\n",
       "      <th></th>\n",
       "    </tr>\n",
       "  </thead>\n",
       "  <tbody>\n",
       "    <tr>\n",
       "      <th>ART_AND_DESIGN</th>\n",
       "      <td>صور حرف H</td>\n",
       "      <td>5.0</td>\n",
       "    </tr>\n",
       "    <tr>\n",
       "      <th>AUTO_AND_VEHICLES</th>\n",
       "      <td>Билеты ПДД CD 2019 PRO</td>\n",
       "      <td>4.9</td>\n",
       "    </tr>\n",
       "    <tr>\n",
       "      <th>BEAUTY</th>\n",
       "      <td>ipsy: Makeup, Beauty, and Tips</td>\n",
       "      <td>4.9</td>\n",
       "    </tr>\n",
       "    <tr>\n",
       "      <th>BOOKS_AND_REFERENCE</th>\n",
       "      <td>日本AV历史</td>\n",
       "      <td>5.0</td>\n",
       "    </tr>\n",
       "    <tr>\n",
       "      <th>BUSINESS</th>\n",
       "      <td>sABN</td>\n",
       "      <td>5.0</td>\n",
       "    </tr>\n",
       "    <tr>\n",
       "      <th>COMICS</th>\n",
       "      <td>감성학원 BL 첫사랑</td>\n",
       "      <td>5.0</td>\n",
       "    </tr>\n",
       "    <tr>\n",
       "      <th>COMMUNICATION</th>\n",
       "      <td>哈哈姆特不EY</td>\n",
       "      <td>5.0</td>\n",
       "    </tr>\n",
       "    <tr>\n",
       "      <th>DATING</th>\n",
       "      <td>stranger chat - anonymous chat</td>\n",
       "      <td>5.0</td>\n",
       "    </tr>\n",
       "    <tr>\n",
       "      <th>EDUCATION</th>\n",
       "      <td>play2prep: ACT, SAT prep</td>\n",
       "      <td>4.9</td>\n",
       "    </tr>\n",
       "    <tr>\n",
       "      <th>ENTERTAINMENT</th>\n",
       "      <td>🔥 Football Wallpapers 4K | Full HD Backgrounds 😍</td>\n",
       "      <td>4.7</td>\n",
       "    </tr>\n",
       "    <tr>\n",
       "      <th>EVENTS</th>\n",
       "      <td>vide-greniers.org</td>\n",
       "      <td>5.0</td>\n",
       "    </tr>\n",
       "    <tr>\n",
       "      <th>FAMILY</th>\n",
       "      <td>英漢字典 EC Dictionary</td>\n",
       "      <td>5.0</td>\n",
       "    </tr>\n",
       "    <tr>\n",
       "      <th>FINANCE</th>\n",
       "      <td>İşCep</td>\n",
       "      <td>5.0</td>\n",
       "    </tr>\n",
       "    <tr>\n",
       "      <th>FOOD_AND_DRINK</th>\n",
       "      <td>¿Es Vegan?</td>\n",
       "      <td>5.0</td>\n",
       "    </tr>\n",
       "    <tr>\n",
       "      <th>GAME</th>\n",
       "      <td>► MultiCraft ― Free Miner! 👍</td>\n",
       "      <td>5.0</td>\n",
       "    </tr>\n",
       "    <tr>\n",
       "      <th>HEALTH_AND_FITNESS</th>\n",
       "      <td>f.lux (preview, root-only)</td>\n",
       "      <td>5.0</td>\n",
       "    </tr>\n",
       "    <tr>\n",
       "      <th>HOUSE_AND_HOME</th>\n",
       "      <td>乐屋网: Buying a house, selling a house, renting ...</td>\n",
       "      <td>4.8</td>\n",
       "    </tr>\n",
       "    <tr>\n",
       "      <th>LIBRARIES_AND_DEMO</th>\n",
       "      <td>eBiblio</td>\n",
       "      <td>5.0</td>\n",
       "    </tr>\n",
       "    <tr>\n",
       "      <th>LIFESTYLE</th>\n",
       "      <td>💎 I'm rich</td>\n",
       "      <td>5.0</td>\n",
       "    </tr>\n",
       "    <tr>\n",
       "      <th>MAPS_AND_NAVIGATION</th>\n",
       "      <td>乗換NAVITIME　Timetable &amp; Route Search in Japan T...</td>\n",
       "      <td>4.9</td>\n",
       "    </tr>\n",
       "    <tr>\n",
       "      <th>MEDICAL</th>\n",
       "      <td>tökr</td>\n",
       "      <td>5.0</td>\n",
       "    </tr>\n",
       "    <tr>\n",
       "      <th>NEWS_AND_MAGAZINES</th>\n",
       "      <td>أحداث وحقائق | خبر عاجل في اخبار العالم</td>\n",
       "      <td>5.0</td>\n",
       "    </tr>\n",
       "    <tr>\n",
       "      <th>PARENTING</th>\n",
       "      <td>Zoo For Preschool Kids 3-9 Years</td>\n",
       "      <td>5.0</td>\n",
       "    </tr>\n",
       "    <tr>\n",
       "      <th>PERSONALIZATION</th>\n",
       "      <td>weather HD</td>\n",
       "      <td>5.0</td>\n",
       "    </tr>\n",
       "    <tr>\n",
       "      <th>PHOTOGRAPHY</th>\n",
       "      <td>love</td>\n",
       "      <td>5.0</td>\n",
       "    </tr>\n",
       "    <tr>\n",
       "      <th>PRODUCTIVITY</th>\n",
       "      <td>pCloud: Free Cloud Storage</td>\n",
       "      <td>5.0</td>\n",
       "    </tr>\n",
       "    <tr>\n",
       "      <th>SHOPPING</th>\n",
       "      <td>パーリーゲイツ公式通販｜EJ STYLE（イージェイスタイル）</td>\n",
       "      <td>5.0</td>\n",
       "    </tr>\n",
       "    <tr>\n",
       "      <th>SOCIAL</th>\n",
       "      <td>💘 WhatsLov: Smileys of love, stickers and GIF</td>\n",
       "      <td>5.0</td>\n",
       "    </tr>\n",
       "    <tr>\n",
       "      <th>SPORTS</th>\n",
       "      <td>theScore: Live Sports Scores, News, Stats &amp; Vi...</td>\n",
       "      <td>5.0</td>\n",
       "    </tr>\n",
       "    <tr>\n",
       "      <th>TOOLS</th>\n",
       "      <td>📏 Smart Ruler ↔️ cm/inch measuring for homework!</td>\n",
       "      <td>5.0</td>\n",
       "    </tr>\n",
       "    <tr>\n",
       "      <th>TRAVEL_AND_LOCAL</th>\n",
       "      <td>trivago: Hotels &amp; Travel</td>\n",
       "      <td>5.0</td>\n",
       "    </tr>\n",
       "    <tr>\n",
       "      <th>VIDEO_PLAYERS</th>\n",
       "      <td>뽕티비 - 개인방송, 인터넷방송, BJ방송</td>\n",
       "      <td>4.9</td>\n",
       "    </tr>\n",
       "    <tr>\n",
       "      <th>WEATHER</th>\n",
       "      <td>wetter.com - Weather and Radar</td>\n",
       "      <td>4.8</td>\n",
       "    </tr>\n",
       "  </tbody>\n",
       "</table>\n",
       "</div>"
      ],
      "text/plain": [
       "                                                                   App  Rating\n",
       "Category                                                                      \n",
       "ART_AND_DESIGN                                               صور حرف H     5.0\n",
       "AUTO_AND_VEHICLES                               Билеты ПДД CD 2019 PRO     4.9\n",
       "BEAUTY                                  ipsy: Makeup, Beauty, and Tips     4.9\n",
       "BOOKS_AND_REFERENCE                                             日本AV历史     5.0\n",
       "BUSINESS                                                          sABN     5.0\n",
       "COMICS                                                     감성학원 BL 첫사랑     5.0\n",
       "COMMUNICATION                                                  哈哈姆特不EY     5.0\n",
       "DATING                                  stranger chat - anonymous chat     5.0\n",
       "EDUCATION                                     play2prep: ACT, SAT prep     4.9\n",
       "ENTERTAINMENT         🔥 Football Wallpapers 4K | Full HD Backgrounds 😍     4.7\n",
       "EVENTS                                               vide-greniers.org     5.0\n",
       "FAMILY                                              英漢字典 EC Dictionary     5.0\n",
       "FINANCE                                                          İşCep     5.0\n",
       "FOOD_AND_DRINK                                              ¿Es Vegan?     5.0\n",
       "GAME                                      ► MultiCraft ― Free Miner! 👍     5.0\n",
       "HEALTH_AND_FITNESS                          f.lux (preview, root-only)     5.0\n",
       "HOUSE_AND_HOME       乐屋网: Buying a house, selling a house, renting ...     4.8\n",
       "LIBRARIES_AND_DEMO                                             eBiblio     5.0\n",
       "LIFESTYLE                                                   💎 I'm rich     5.0\n",
       "MAPS_AND_NAVIGATION  乗換NAVITIME　Timetable & Route Search in Japan T...     4.9\n",
       "MEDICAL                                                           tökr     5.0\n",
       "NEWS_AND_MAGAZINES             أحداث وحقائق | خبر عاجل في اخبار العالم     5.0\n",
       "PARENTING                             Zoo For Preschool Kids 3-9 Years     5.0\n",
       "PERSONALIZATION                                             weather HD     5.0\n",
       "PHOTOGRAPHY                                                       love     5.0\n",
       "PRODUCTIVITY                                pCloud: Free Cloud Storage     5.0\n",
       "SHOPPING                               パーリーゲイツ公式通販｜EJ STYLE（イージェイスタイル）     5.0\n",
       "SOCIAL                   💘 WhatsLov: Smileys of love, stickers and GIF     5.0\n",
       "SPORTS               theScore: Live Sports Scores, News, Stats & Vi...     5.0\n",
       "TOOLS                 📏 Smart Ruler ↔️ cm/inch measuring for homework!     5.0\n",
       "TRAVEL_AND_LOCAL                              trivago: Hotels & Travel     5.0\n",
       "VIDEO_PLAYERS                                  뽕티비 - 개인방송, 인터넷방송, BJ방송     4.9\n",
       "WEATHER                                 wetter.com - Weather and Radar     4.8"
      ]
     },
     "execution_count": 27,
     "metadata": {},
     "output_type": "execute_result"
    }
   ],
   "source": [
    "# Creating a pivot table to find the maximum values of 'Rating' and 'App' for each category\n",
    "pd.pivot_table(GPDf,index=['Category',],values=['Rating','App'],aggfunc='max')"
   ]
  },
  {
   "cell_type": "code",
   "execution_count": 28,
   "id": "70ab3358-a9a1-474d-9817-f748ce56cd3c",
   "metadata": {},
   "outputs": [
    {
     "data": {
      "text/html": [
       "<div>\n",
       "<style scoped>\n",
       "    .dataframe tbody tr th:only-of-type {\n",
       "        vertical-align: middle;\n",
       "    }\n",
       "\n",
       "    .dataframe tbody tr th {\n",
       "        vertical-align: top;\n",
       "    }\n",
       "\n",
       "    .dataframe thead th {\n",
       "        text-align: right;\n",
       "    }\n",
       "</style>\n",
       "<table border=\"1\" class=\"dataframe\">\n",
       "  <thead>\n",
       "    <tr style=\"text-align: right;\">\n",
       "      <th></th>\n",
       "      <th></th>\n",
       "      <th>Rating</th>\n",
       "    </tr>\n",
       "    <tr>\n",
       "      <th>App</th>\n",
       "      <th>Category</th>\n",
       "      <th></th>\n",
       "    </tr>\n",
       "  </thead>\n",
       "  <tbody>\n",
       "    <tr>\n",
       "      <th>211:CK</th>\n",
       "      <th>GAME</th>\n",
       "      <td>5.0</td>\n",
       "    </tr>\n",
       "    <tr>\n",
       "      <th>30WPM Amateur ham radio Koch CW Morse code trainer</th>\n",
       "      <th>FAMILY</th>\n",
       "      <td>5.0</td>\n",
       "    </tr>\n",
       "    <tr>\n",
       "      <th>420 BZ Budeze Delivery</th>\n",
       "      <th>MEDICAL</th>\n",
       "      <td>5.0</td>\n",
       "    </tr>\n",
       "    <tr>\n",
       "      <th>A-Y Collection</th>\n",
       "      <th>SHOPPING</th>\n",
       "      <td>5.0</td>\n",
       "    </tr>\n",
       "    <tr>\n",
       "      <th>AC DC Power Monitor</th>\n",
       "      <th>LIFESTYLE</th>\n",
       "      <td>5.0</td>\n",
       "    </tr>\n",
       "    <tr>\n",
       "      <th>ADS-B Driver</th>\n",
       "      <th>TOOLS</th>\n",
       "      <td>5.0</td>\n",
       "    </tr>\n",
       "    <tr>\n",
       "      <th>AI Today : Artificial Intelligence News &amp; AI 101</th>\n",
       "      <th>NEWS_AND_MAGAZINES</th>\n",
       "      <td>5.0</td>\n",
       "    </tr>\n",
       "    <tr>\n",
       "      <th>AJ Blue Icon Pack</th>\n",
       "      <th>PERSONALIZATION</th>\n",
       "      <td>5.0</td>\n",
       "    </tr>\n",
       "    <tr>\n",
       "      <th>AJ Cam</th>\n",
       "      <th>PHOTOGRAPHY</th>\n",
       "      <td>5.0</td>\n",
       "    </tr>\n",
       "    <tr>\n",
       "      <th>AJ Gray Dark Icon Pack</th>\n",
       "      <th>PERSONALIZATION</th>\n",
       "      <td>5.0</td>\n",
       "    </tr>\n",
       "  </tbody>\n",
       "</table>\n",
       "</div>"
      ],
      "text/plain": [
       "                                                                       Rating\n",
       "App                                                Category                  \n",
       "211:CK                                             GAME                   5.0\n",
       "30WPM Amateur ham radio Koch CW Morse code trainer FAMILY                 5.0\n",
       "420 BZ Budeze Delivery                             MEDICAL                5.0\n",
       "A-Y Collection                                     SHOPPING               5.0\n",
       "AC DC Power Monitor                                LIFESTYLE              5.0\n",
       "ADS-B Driver                                       TOOLS                  5.0\n",
       "AI Today : Artificial Intelligence News & AI 101   NEWS_AND_MAGAZINES     5.0\n",
       "AJ Blue Icon Pack                                  PERSONALIZATION        5.0\n",
       "AJ Cam                                             PHOTOGRAPHY            5.0\n",
       "AJ Gray Dark Icon Pack                             PERSONALIZATION        5.0"
      ]
     },
     "execution_count": 28,
     "metadata": {},
     "output_type": "execute_result"
    }
   ],
   "source": [
    "# Creating a pivot table to find the top 10 entries with the highest ratings for each app within each category\n",
    "GPDf.pivot_table(index=['App','Category'], values='Rating', aggfunc='max').nlargest(10, 'Rating')"
   ]
  },
  {
   "cell_type": "code",
   "execution_count": 29,
   "id": "68c6bd47-b1c5-4ac9-8654-5842382d4023",
   "metadata": {},
   "outputs": [
    {
     "data": {
      "image/png": "[encoded data removed]",
      "text/plain": [
       "<Figure size 800x600 with 1 Axes>"
      ]
     },
     "metadata": {},
     "output_type": "display_data"
    }
   ],
   "source": [
    "# Creating a histogram to visualize the distribution of Ratings\n",
    "plt.figure(figsize=(8, 6))\n",
    "plt.hist(GPDf['Rating'], bins=30, color='SlateBlue', edgecolor='black')\n",
    "# Adding title and labels to the plot\n",
    "plt.title('Distribution of Ratings')\n",
    "plt.xlabel('Ratings')\n",
    "plt.ylabel('Frequency')\n",
    "# Adding grid for better readability\n",
    "plt.grid(True)\n",
    "# Displaying the plot\n",
    "plt.show()"
   ]
  },
  {
   "cell_type": "markdown",
   "id": "a0bc5b1d-0448-4ed9-805d-c06a264a02aa",
   "metadata": {},
   "source": [
    "**The graph depicts the distribution of ratings, with a concentration of higher ratings between 4.0 and 4.5. There are fewer instances of lower ratings, indicating that the majority of the rated items or services received positive feedback.**"
   ]
  },
  {
   "cell_type": "code",
   "execution_count": 30,
   "id": "8ba834c3-9698-411f-a39c-5084328eb9a2",
   "metadata": {},
   "outputs": [
    {
     "name": "stdout",
     "output_type": "stream",
     "text": [
      "\n",
      "Top 10 heighest Reviews apps with their category\n"
     ]
    },
    {
     "data": {
      "text/html": [
       "<div>\n",
       "<style scoped>\n",
       "    .dataframe tbody tr th:only-of-type {\n",
       "        vertical-align: middle;\n",
       "    }\n",
       "\n",
       "    .dataframe tbody tr th {\n",
       "        vertical-align: top;\n",
       "    }\n",
       "\n",
       "    .dataframe thead th {\n",
       "        text-align: right;\n",
       "    }\n",
       "</style>\n",
       "<table border=\"1\" class=\"dataframe\">\n",
       "  <thead>\n",
       "    <tr style=\"text-align: right;\">\n",
       "      <th></th>\n",
       "      <th></th>\n",
       "      <th>Reviews</th>\n",
       "    </tr>\n",
       "    <tr>\n",
       "      <th>App</th>\n",
       "      <th>Category</th>\n",
       "      <th></th>\n",
       "    </tr>\n",
       "  </thead>\n",
       "  <tbody>\n",
       "    <tr>\n",
       "      <th>Facebook</th>\n",
       "      <th>SOCIAL</th>\n",
       "      <td>78158306</td>\n",
       "    </tr>\n",
       "    <tr>\n",
       "      <th>WhatsApp Messenger</th>\n",
       "      <th>COMMUNICATION</th>\n",
       "      <td>69119316</td>\n",
       "    </tr>\n",
       "    <tr>\n",
       "      <th>Instagram</th>\n",
       "      <th>SOCIAL</th>\n",
       "      <td>66577446</td>\n",
       "    </tr>\n",
       "    <tr>\n",
       "      <th>Messenger – Text and Video Chat for Free</th>\n",
       "      <th>COMMUNICATION</th>\n",
       "      <td>56646578</td>\n",
       "    </tr>\n",
       "    <tr>\n",
       "      <th rowspan=\"2\" valign=\"top\">Clash of Clans</th>\n",
       "      <th>GAME</th>\n",
       "      <td>44893888</td>\n",
       "    </tr>\n",
       "    <tr>\n",
       "      <th>FAMILY</th>\n",
       "      <td>44881447</td>\n",
       "    </tr>\n",
       "    <tr>\n",
       "      <th>Clean Master- Space Cleaner &amp; Antivirus</th>\n",
       "      <th>TOOLS</th>\n",
       "      <td>42916526</td>\n",
       "    </tr>\n",
       "    <tr>\n",
       "      <th>Subway Surfers</th>\n",
       "      <th>GAME</th>\n",
       "      <td>27725352</td>\n",
       "    </tr>\n",
       "    <tr>\n",
       "      <th>YouTube</th>\n",
       "      <th>VIDEO_PLAYERS</th>\n",
       "      <td>25655305</td>\n",
       "    </tr>\n",
       "    <tr>\n",
       "      <th>Security Master - Antivirus, VPN, AppLock, Booster</th>\n",
       "      <th>TOOLS</th>\n",
       "      <td>24900999</td>\n",
       "    </tr>\n",
       "  </tbody>\n",
       "</table>\n",
       "</div>"
      ],
      "text/plain": [
       "                                                                   Reviews\n",
       "App                                                Category               \n",
       "Facebook                                           SOCIAL         78158306\n",
       "WhatsApp Messenger                                 COMMUNICATION  69119316\n",
       "Instagram                                          SOCIAL         66577446\n",
       "Messenger – Text and Video Chat for Free           COMMUNICATION  56646578\n",
       "Clash of Clans                                     GAME           44893888\n",
       "                                                   FAMILY         44881447\n",
       "Clean Master- Space Cleaner & Antivirus            TOOLS          42916526\n",
       "Subway Surfers                                     GAME           27725352\n",
       "YouTube                                            VIDEO_PLAYERS  25655305\n",
       "Security Master - Antivirus, VPN, AppLock, Booster TOOLS          24900999"
      ]
     },
     "execution_count": 30,
     "metadata": {},
     "output_type": "execute_result"
    }
   ],
   "source": [
    "# Displaying the top 10 apps with the highest number of reviews and their categories\n",
    "print(\"\\nTop 10 heighest Reviews apps with their category\")\n",
    "pd.pivot_table(GPDf,index=['App','Category'],values=['Reviews'],aggfunc='max').nlargest(10,'Reviews')"
   ]
  },
  {
   "cell_type": "code",
   "execution_count": 31,
   "id": "e92d97a1-bbbd-4383-9950-6d936b7448d9",
   "metadata": {},
   "outputs": [
    {
     "data": {
      "image/png": "[encoded data removed]",
      "text/plain": [
       "<Figure size 640x480 with 1 Axes>"
      ]
     },
     "metadata": {},
     "output_type": "display_data"
    }
   ],
   "source": [
    "# Creating a horizontal bar plot for the top 10 apps with the highest number of reviews\n",
    "Reviews_app=pd.pivot_table(GPDf,index=['App'],values=['Reviews'],aggfunc='max').nlargest(10,'Reviews')\n",
    "Reviews_app.plot(kind='barh',color='PaleVioletRed',edgecolor='black')\n",
    "# Adding title and labels to the plot\n",
    "plt.title(\"Top 10 heighest Reviews apps\")\n",
    "plt.xlabel(\"Reviews(numbers)\")\n",
    "plt.ylabel(\"Apps\")\n",
    "# Displaying the plot\n",
    "plt.show()"
   ]
  },
  {
   "cell_type": "markdown",
   "id": "abdd651f-c119-400a-8b4e-b2bf6ecf1fd3",
   "metadata": {},
   "source": [
    "**The graph illustrates the top 10 highest reviewed apps.Facebook has the highest number of reviews & Clash Royale has the least number of reviews among the listed apps.**\r\n"
   ]
  },
  {
   "cell_type": "code",
   "execution_count": 32,
   "id": "6fa262c3-b6f2-4040-8149-3d2451f333d2",
   "metadata": {},
   "outputs": [
    {
     "name": "stdout",
     "output_type": "stream",
     "text": [
      "\n",
      "10 Lowest Reviews apps with their category:-\n"
     ]
    },
    {
     "data": {
      "text/html": [
       "<div>\n",
       "<style scoped>\n",
       "    .dataframe tbody tr th:only-of-type {\n",
       "        vertical-align: middle;\n",
       "    }\n",
       "\n",
       "    .dataframe tbody tr th {\n",
       "        vertical-align: top;\n",
       "    }\n",
       "\n",
       "    .dataframe thead th {\n",
       "        text-align: right;\n",
       "    }\n",
       "</style>\n",
       "<table border=\"1\" class=\"dataframe\">\n",
       "  <thead>\n",
       "    <tr style=\"text-align: right;\">\n",
       "      <th></th>\n",
       "      <th></th>\n",
       "      <th>Reviews</th>\n",
       "    </tr>\n",
       "    <tr>\n",
       "      <th>Category</th>\n",
       "      <th>App</th>\n",
       "      <th></th>\n",
       "    </tr>\n",
       "  </thead>\n",
       "  <tbody>\n",
       "    <tr>\n",
       "      <th>ART_AND_DESIGN</th>\n",
       "      <th>Test Application DT 02</th>\n",
       "      <td>0</td>\n",
       "    </tr>\n",
       "    <tr>\n",
       "      <th rowspan=\"4\" valign=\"top\">AUTO_AND_VEHICLES</th>\n",
       "      <th>AJ AUTO</th>\n",
       "      <td>0</td>\n",
       "    </tr>\n",
       "    <tr>\n",
       "      <th>Dashboard AE</th>\n",
       "      <td>0</td>\n",
       "    </tr>\n",
       "    <tr>\n",
       "      <th>SpeedApp EV</th>\n",
       "      <td>0</td>\n",
       "    </tr>\n",
       "    <tr>\n",
       "      <th>eP Finder</th>\n",
       "      <td>0</td>\n",
       "    </tr>\n",
       "    <tr>\n",
       "      <th rowspan=\"2\" valign=\"top\">BEAUTY</th>\n",
       "      <th>Aura Hair Group BC</th>\n",
       "      <td>0</td>\n",
       "    </tr>\n",
       "    <tr>\n",
       "      <th>Calvin Klein Petite Dresses</th>\n",
       "      <td>0</td>\n",
       "    </tr>\n",
       "    <tr>\n",
       "      <th rowspan=\"3\" valign=\"top\">BOOKS_AND_REFERENCE</th>\n",
       "      <th>Ag PhD Planting Population Calculator</th>\n",
       "      <td>0</td>\n",
       "    </tr>\n",
       "    <tr>\n",
       "      <th>Ag PhD Soybean Diseases</th>\n",
       "      <td>0</td>\n",
       "    </tr>\n",
       "    <tr>\n",
       "      <th>Anime Mod for BM</th>\n",
       "      <td>0</td>\n",
       "    </tr>\n",
       "  </tbody>\n",
       "</table>\n",
       "</div>"
      ],
      "text/plain": [
       "                                                           Reviews\n",
       "Category            App                                           \n",
       "ART_AND_DESIGN      Test Application DT 02                       0\n",
       "AUTO_AND_VEHICLES   AJ AUTO                                      0\n",
       "                    Dashboard AE                                 0\n",
       "                    SpeedApp EV                                  0\n",
       "                    eP Finder                                    0\n",
       "BEAUTY              Aura Hair Group BC                           0\n",
       "                    Calvin Klein Petite Dresses                  0\n",
       "BOOKS_AND_REFERENCE Ag PhD Planting Population Calculator        0\n",
       "                    Ag PhD Soybean Diseases                      0\n",
       "                    Anime Mod for BM                             0"
      ]
     },
     "execution_count": 32,
     "metadata": {},
     "output_type": "execute_result"
    }
   ],
   "source": [
    "# Displaying the 10 apps with the lowest number of reviews and their categories\n",
    "print(\"\\n10 Lowest Reviews apps with their category:-\")\n",
    "pd.pivot_table(GPDf,index=['Category','App'],values=['Reviews'],aggfunc='max').nsmallest(10,'Reviews')"
   ]
  },
  {
   "cell_type": "code",
   "execution_count": 33,
   "id": "16cb4c85-29f5-4df5-9c11-ace46e1a5f3e",
   "metadata": {},
   "outputs": [
    {
     "data": {
      "text/html": [
       "<div>\n",
       "<style scoped>\n",
       "    .dataframe tbody tr th:only-of-type {\n",
       "        vertical-align: middle;\n",
       "    }\n",
       "\n",
       "    .dataframe tbody tr th {\n",
       "        vertical-align: top;\n",
       "    }\n",
       "\n",
       "    .dataframe thead tr th {\n",
       "        text-align: left;\n",
       "    }\n",
       "\n",
       "    .dataframe thead tr:last-of-type th {\n",
       "        text-align: right;\n",
       "    }\n",
       "</style>\n",
       "<table border=\"1\" class=\"dataframe\">\n",
       "  <thead>\n",
       "    <tr>\n",
       "      <th></th>\n",
       "      <th>count</th>\n",
       "    </tr>\n",
       "    <tr>\n",
       "      <th></th>\n",
       "      <th>App</th>\n",
       "    </tr>\n",
       "    <tr>\n",
       "      <th>Type</th>\n",
       "      <th></th>\n",
       "    </tr>\n",
       "  </thead>\n",
       "  <tbody>\n",
       "    <tr>\n",
       "      <th>Free</th>\n",
       "      <td>9591</td>\n",
       "    </tr>\n",
       "    <tr>\n",
       "      <th>Paid</th>\n",
       "      <td>765</td>\n",
       "    </tr>\n",
       "  </tbody>\n",
       "</table>\n",
       "</div>"
      ],
      "text/plain": [
       "     count\n",
       "       App\n",
       "Type      \n",
       "Free  9591\n",
       "Paid   765"
      ]
     },
     "execution_count": 33,
     "metadata": {},
     "output_type": "execute_result"
    }
   ],
   "source": [
    "# Creating a pivot table to count the number of apps for each 'Type' category\n",
    "pd.pivot_table(GPDf,index=['Type'],values=['App'],aggfunc=['count'])"
   ]
  },
  {
   "cell_type": "code",
   "execution_count": 34,
   "id": "1783b54c-54d5-42c0-b7c9-ef4a1c29839b",
   "metadata": {},
   "outputs": [
    {
     "data": {
      "image/png": "[encoded data removed]",
      "text/plain": [
       "<Figure size 600x800 with 1 Axes>"
      ]
     },
     "metadata": {},
     "output_type": "display_data"
    }
   ],
   "source": [
    "# Creating a pivot table to count the number of apps for each 'Type' category\n",
    "Type_Apps=pd.pivot_table(GPDf,index=['Type'],values=['App'],aggfunc=['count'])\n",
    "# Extracting values and labels for the pie chart\n",
    "values = Type_Apps.values.flatten()\n",
    "Type_labels=[\"Free apps\",\"Paid apps\"]\n",
    "# Plotting a pie chart to show the distribution of free and paid apps\n",
    "plt.figure(figsize=(6,8))\n",
    "plt.title(\"Pie Chart for Free and Paid Apps\")\n",
    "plt.pie(values, autopct='%1.1f%%',colors=[\"Crimson\",\"LawnGreen\"])\n",
    "# Adding legend with type labels\n",
    "plt.legend(title='Types:',labels=Type_labels)\n",
    "# Displaying the pie chart\n",
    "plt.show()"
   ]
  },
  {
   "cell_type": "markdown",
   "id": "5870c371-3620-4598-a89a-742b349f716a",
   "metadata": {},
   "source": [
    "**This pie chart is representing the distribution between free and paid apps. A significant majority, 92.6%, of the apps are free, while only a small portion, 7.4%, are paid.**"
   ]
  },
  {
   "cell_type": "markdown",
   "id": "84a8ecfd-3e54-4221-b604-479d48d502cc",
   "metadata": {},
   "source": [
    "**CONCLUSION:**\n"
   ]
  },
  {
   "cell_type": "markdown",
   "id": "60b77ab5-67a9-4339-ba5f-b12041fd23a1",
   "metadata": {},
   "source": [
    "***The Google Play Store dataset comprises approximately 10,356 entries accross various categories and apps.Total number of apps 10356 and Category is 33 and there are  2 type of apps available, one is free and another is paid.***"
   ]
  },
  {
   "cell_type": "markdown",
   "id": "9570998e-2eae-4571-9a29-c734c777f156",
   "metadata": {},
   "source": [
    "***Also, we can see, \"Family\" category has the most number of apps(1942) contained.***\n"
   ]
  },
  {
   "cell_type": "markdown",
   "id": "ef677722-2e43-4936-b22f-a4ba75cada3c",
   "metadata": {},
   "source": [
    "***Most of the apps are available for everyone, some apps have age restriction.***"
   ]
  },
  {
   "cell_type": "markdown",
   "id": "0ae4b973-c5be-45fe-aac0-0e3e58489064",
   "metadata": {},
   "source": [
    "***Facebook has got the highest number reviews(78158306) from users, that means Facebook is most widely used app in Google Play Store.***"
   ]
  },
  {
   "cell_type": "markdown",
   "id": "7462286a-56f7-4161-9c60-47c3848d5e61",
   "metadata": {},
   "source": [
    "***It includes essential information like app ratings, reviews, installs, pricing, and compatibility, making it suitable for diverse analytical insights into app performance, user preferences, and market trends.***"
   ]
  },
  {
   "cell_type": "code",
   "execution_count": null,
   "id": "b0d3f736-c437-415e-bd13-4a684c88458e",
   "metadata": {},
   "outputs": [],
   "source": []
  }
 ],
 "metadata": {
  "kernelspec": {
   "display_name": "Python 3 (ipykernel)",
   "language": "python",
   "name": "python3"
  },
  "language_info": {
   "codemirror_mode": {
    "name": "ipython",
    "version": 3
   },
   "file_extension": ".py",
   "mimetype": "text/x-python",
   "name": "python",
   "nbconvert_exporter": "python",
   "pygments_lexer": "ipython3",
   "version": "3.12.0"
  }
 },
 "nbformat": 4,
 "nbformat_minor": 5
}
